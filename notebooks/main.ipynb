{
 "cells": [
  {
   "cell_type": "code",
   "execution_count": 1,
   "metadata": {},
   "outputs": [],
   "source": [
    "import duckdb\n",
    "import polars as pl"
   ]
  },
  {
   "cell_type": "code",
   "execution_count": 2,
   "metadata": {},
   "outputs": [
    {
     "name": "stdout",
     "output_type": "stream",
     "text": [
      "┌───────┐\n",
      "│  42   │\n",
      "│ int32 │\n",
      "├───────┤\n",
      "│    42 │\n",
      "└───────┘\n",
      "\n"
     ]
    }
   ],
   "source": [
    "\"\"\"\n",
    ". Usa in-memory database que eh armazenada globalmente dentro de um modulo python\n",
    ". O resultado de uma query eh retornado como uma Relation, que eh uma representacao simbolica da query\n",
    ". A query nao eh executada ate que o resultado seja buscado (fetched) ou requisitado para ser exibido na tela\n",
    "\n",
    "\"\"\"\n",
    "duckdb.sql(\"select 42\").show()"
   ]
  },
  {
   "cell_type": "code",
   "execution_count": 3,
   "metadata": {},
   "outputs": [
    {
     "name": "stdout",
     "output_type": "stream",
     "text": [
      "┌───────┐\n",
      "│   k   │\n",
      "│ int32 │\n",
      "├───────┤\n",
      "│    84 │\n",
      "└───────┘\n",
      "\n"
     ]
    }
   ],
   "source": [
    "\"\"\"\n",
    ". Relations podem ser referenciadas em queries subsequentes atraves de seu armazenamento em variaveis, e usando elas como tabelas\n",
    "\"\"\"\n",
    "q1 = duckdb.sql(\"select 42 as i\")\n",
    "duckdb.sql(\"select i* 2 as k from q1\").show()"
   ]
  },
  {
   "cell_type": "code",
   "execution_count": null,
   "metadata": {},
   "outputs": [],
   "source": [
    "\"\"\"\n",
    "-> DATA INPUT\n",
    "- DuckDB pode ingerir dados de uma ampla variedade de formatos, tanto em disco quanto em in-memory\n",
    ". duckdb.read_csv(\"example.csv\")\n",
    ". duckdb.read_parquet(\"example.parquet\")\n",
    ". duckdb.read_json(\"example.json\")\n",
    "\n",
    "- Diretamente de arquivos\n",
    ". duckdb.sql(\"select * from 'example.csv'\")\n",
    ". duckdb.sql(\"select * from 'example.parquet'\")\n",
    ". duckdb.sql(\"select * from 'example.json'\")\n",
    "\"\"\""
   ]
  },
  {
   "cell_type": "code",
   "execution_count": 5,
   "metadata": {},
   "outputs": [
    {
     "name": "stdout",
     "output_type": "stream",
     "text": [
      "┌───────┬───────┐\n",
      "│   a   │   b   │\n",
      "│ int64 │ int64 │\n",
      "├───────┼───────┤\n",
      "│     1 │     4 │\n",
      "│     2 │     5 │\n",
      "│     3 │     6 │\n",
      "└───────┴───────┘\n",
      "\n"
     ]
    }
   ],
   "source": [
    "\"\"\"\n",
    "-> DataFrames\n",
    "- DuckDB pode realizar query diretamente em Pandas DFs, Polars DFs e Arrow tables.\n",
    "- No entanto, essas queries so podem ser de leituras\n",
    "\"\"\"\n",
    "\n",
    "polars_df = pl.DataFrame({\"a\": [1, 2, 3], \"b\": [4, 5, 6]})\n",
    "\n",
    "duckdb.sql(\"select * from polars_df\").show()"
   ]
  },
  {
   "cell_type": "code",
   "execution_count": null,
   "metadata": {},
   "outputs": [],
   "source": [
    "\"\"\"\n",
    "-> Data Output\n",
    "- DuckDB pode converter querys eficientemente em diferentes formatos, como\n",
    "duckdb.sql(\"SELECT 42\").fetchall()   # Python objects\n",
    "duckdb.sql(\"SELECT 42\").df()         # Pandas DataFrame\n",
    "duckdb.sql(\"SELECT 42\").pl()         # Polars DataFrame\n",
    "duckdb.sql(\"SELECT 42\").arrow()      # Arrow Table\n",
    "duckdb.sql(\"SELECT 42\").fetchnumpy() # NumPy Arrays\n",
    "\"\"\""
   ]
  },
  {
   "cell_type": "code",
   "execution_count": null,
   "metadata": {},
   "outputs": [],
   "source": [
    "\"\"\"\n",
    "-> Escrevendo dados no disco\n",
    "- Usando metodos\n",
    "duckdb.sql(\"SELECT 42\").write_parquet(\"out.parquet\") # Write to a Parquet file\n",
    "duckdb.sql(\"SELECT 42\").write_csv(\"out.csv\")         # Write to a CSV file\n",
    "\n",
    "- Usando SQl\n",
    "duckdb.sql(\"COPY (SELECT 42) TO 'out.parquet'\")      # Copy to a Parquet file\n",
    "\"\"\""
   ]
  }
 ],
 "metadata": {
  "kernelspec": {
   "display_name": ".venv",
   "language": "python",
   "name": "python3"
  },
  "language_info": {
   "codemirror_mode": {
    "name": "ipython",
    "version": 3
   },
   "file_extension": ".py",
   "mimetype": "text/x-python",
   "name": "python",
   "nbconvert_exporter": "python",
   "pygments_lexer": "ipython3",
   "version": "3.10.12"
  }
 },
 "nbformat": 4,
 "nbformat_minor": 2
}
